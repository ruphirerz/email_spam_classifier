{
  "nbformat": 4,
  "nbformat_minor": 0,
  "metadata": {
    "colab": {
      "name": "final_year_project.ipynb",
      "provenance": [],
      "collapsed_sections": []
    },
    "kernelspec": {
      "name": "python3",
      "display_name": "Python 3"
    },
    "language_info": {
      "name": "python"
    }
  },
  "cells": [
    {
      "cell_type": "markdown",
      "source": [
        "Equation of the Hyperplane:\n",
        "\n",
        "y = wx + b\n",
        "\n",
        "Gradient Descent:\n",
        "\n",
        "Gradient Descent is an optimization algorithm used for minimizing the loss function in various machine learning algorithms. It is used for updating the parameters of the learning model.\n",
        "\n",
        "w = w - α*dw\n",
        "\n",
        "b = b - α*db\n",
        "\n",
        "dw = It is chnage in slope of that hyperplane \n",
        "db = It is chnage in intersection of that hyperplane \n",
        "\n",
        "Learning Rate:\n",
        "\n",
        "Learning rate is a tuning parameter in an optimization algorithm that determines the step size at each iteration while moving toward a minimum of a loss function.\n",
        "\n"
      ],
      "metadata": {
        "id": "JND_VK-NGuZz"
      }
    },
    {
      "cell_type": "code",
      "execution_count": null,
      "metadata": {
        "id": "as4XgAH45P0J"
      },
      "outputs": [],
      "source": [
        "\n",
        "class SVM_classifier:\n",
        "\n",
        "  # initiating the hyperparameters\n",
        "  def __init__(self, learning_rate, no_of_iterations,lambda_parameter):\n",
        "\n",
        "    self.learning_rate = learning_rate\n",
        "    self.no_of_iterations = no_of_iterations\n",
        "    self.lambda_parameter = lambda_parameter\n",
        "  \n",
        "  # fitting the dataset to SVM Classifier\n",
        "  def fit(self, X, Y):\n",
        "\n",
        "    # m  --> number of Data points --> number of rows\n",
        "    # n  --> number of input features --> number of columns\n",
        "    self.m, self.n = X.shape\n",
        "\n",
        "    # initiating the weight value and bias value\n",
        "    self.w = np.zeros(self.n) # Here w is the numpy array of size same as no. of column\n",
        "    self.b = 0.   # b is the only value \n",
        "    self.X = X    # X is the input feature column on which this algorithm learn \n",
        "    self.Y = Y    # Y is the output feature column on which this algorithm learn\n",
        "\n",
        "    # implementing Gradient Descent algorithm for Optimization\n",
        "    for i in range(self.no_of_iterations):\n",
        "      self.update_weights()\n",
        "\n",
        "  # function for updating the weight and bias value\n",
        "  def update_weights(self):\n",
        "\n",
        "    # label encoding\n",
        "    y_label = np.where(self.Y <= 0, -1, 1)\n",
        "\n",
        "    # gradients ( dw, db)\n",
        "    for index, x_i in enumerate(self.X):\n",
        "      condition = y_label[index] * (np.dot(x_i, self.w) - self.b) >= 1\n",
        "      if (condition == True):\n",
        "        dw =  2 * self.lambda_parameter * self.w\n",
        "        db = 0\n",
        "      else:\n",
        "        dw = 2 * self.lambda_parameter * self.w - np.dot(x_i, y_label[index])\n",
        "        db = y_label[index]\n",
        "\n",
        "      self.w = self.w - self.learning_rate * dw\n",
        "      self.b = self.b - self.learning_rate * db\n",
        "\n",
        "  # predict the label for a given input value\n",
        "  def predict(self, X):\n",
        "\n",
        "    output = np.dot(X, self.w) - self.b    \n",
        "    predicted_labels = np.sign(output)\n",
        "    y_hat = np.where(predicted_labels <= -1,0,1)\n",
        "\n",
        "    return y_hat  "
      ]
    },
    {
      "cell_type": "code",
      "source": [
        "import pandas as pd\n",
        "import numpy as np\n",
        "from sklearn.preprocessing import StandardScaler\n",
        "from sklearn.model_selection import train_test_split\n",
        "from sklearn.metrics import accuracy_score"
      ],
      "metadata": {
        "id": "tjAQgmW75h81"
      },
      "execution_count": null,
      "outputs": []
    },
    {
      "cell_type": "code",
      "source": [
        "data = pd.read_csv('Email_Data.csv')"
      ],
      "metadata": {
        "id": "aygxm0lU5iD3"
      },
      "execution_count": null,
      "outputs": []
    },
    {
      "cell_type": "code",
      "source": [
        "print(data)"
      ],
      "metadata": {
        "id": "U-e48hXnxXj8",
        "colab": {
          "base_uri": "https://localhost:8080/"
        },
        "outputId": "f0d4a593-4e97-486e-dd33-06606eb2e55b"
      },
      "execution_count": null,
      "outputs": [
        {
          "output_type": "stream",
          "name": "stdout",
          "text": [
            "     file_type  file_size  class\n",
            "0            5    5433732      0\n",
            "1            5   22884571      0\n",
            "2            5   21331854      0\n",
            "3            5    7985383      0\n",
            "4            5   13186903      0\n",
            "..         ...        ...    ...\n",
            "823          2       1687      1\n",
            "824          2        287      1\n",
            "825          9    2189039      1\n",
            "826          5    2284075      0\n",
            "827          5    3461466      0\n",
            "\n",
            "[828 rows x 3 columns]\n"
          ]
        }
      ]
    },
    {
      "cell_type": "code",
      "source": [
        ""
      ],
      "metadata": {
        "id": "MBLUv98G8U6C"
      },
      "execution_count": null,
      "outputs": []
    },
    {
      "cell_type": "code",
      "source": [
        "X=data.iloc[:,0:2].values\n",
        "print(X.shape)"
      ],
      "metadata": {
        "colab": {
          "base_uri": "https://localhost:8080/"
        },
        "id": "NIgHlOv15ya1",
        "outputId": "4597e364-1958-419a-c770-2bdbcb0a219f"
      },
      "execution_count": null,
      "outputs": [
        {
          "output_type": "stream",
          "name": "stdout",
          "text": [
            "(828, 2)\n"
          ]
        }
      ]
    },
    {
      "cell_type": "code",
      "source": [
        "Y=data.iloc[:,-1].values"
      ],
      "metadata": {
        "id": "knTSkEoj5ydA"
      },
      "execution_count": null,
      "outputs": []
    },
    {
      "cell_type": "code",
      "source": [
        "scaler = StandardScaler()"
      ],
      "metadata": {
        "id": "SJDAyVq19d-n"
      },
      "execution_count": null,
      "outputs": []
    },
    {
      "cell_type": "code",
      "source": [
        "scaler.fit(X)"
      ],
      "metadata": {
        "colab": {
          "base_uri": "https://localhost:8080/"
        },
        "id": "RNOzhF309eBB",
        "outputId": "be7ffba4-bc10-4e2b-9005-3e939aa062bd"
      },
      "execution_count": null,
      "outputs": [
        {
          "output_type": "execute_result",
          "data": {
            "text/plain": [
              "StandardScaler()"
            ]
          },
          "metadata": {},
          "execution_count": 56
        }
      ]
    },
    {
      "cell_type": "code",
      "source": [
        "standardized_data = scaler.transform(X)"
      ],
      "metadata": {
        "id": "eqLk9o8h9eDj"
      },
      "execution_count": null,
      "outputs": []
    },
    {
      "cell_type": "code",
      "source": [
        "X = standardized_data"
      ],
      "metadata": {
        "id": "-8-ERUZO9ypr"
      },
      "execution_count": null,
      "outputs": []
    },
    {
      "cell_type": "code",
      "source": [
        "from sklearn.model_selection import train_test_split\n",
        "X_train,X_test,Y_train,Y_test=train_test_split(X,Y,test_size=.2)"
      ],
      "metadata": {
        "id": "mhhmkAOH5yff"
      },
      "execution_count": null,
      "outputs": []
    },
    {
      "cell_type": "code",
      "source": [
        "classifier = SVM_classifier(learning_rate=0.0001, no_of_iterations=10, lambda_parameter=0.01)"
      ],
      "metadata": {
        "id": "y5gr6gc45yhx"
      },
      "execution_count": null,
      "outputs": []
    },
    {
      "cell_type": "code",
      "source": [
        "classifier.fit(X_train, Y_train)"
      ],
      "metadata": {
        "id": "AXcnmdlu6QZp"
      },
      "execution_count": null,
      "outputs": []
    },
    {
      "cell_type": "code",
      "source": [
        "\n"
      ],
      "metadata": {
        "id": "6gE_dEtnAh1H"
      },
      "execution_count": null,
      "outputs": []
    },
    {
      "cell_type": "code",
      "source": [
        ""
      ],
      "metadata": {
        "id": "CxphYCUnFgKT"
      },
      "execution_count": null,
      "outputs": []
    },
    {
      "cell_type": "code",
      "source": [
        "X_test_prediction = classifier.predict(X_test)\n",
        "test_data_accuracy = accuracy_score(Y_test, X_test_prediction)"
      ],
      "metadata": {
        "id": "y0ITw0576ici"
      },
      "execution_count": null,
      "outputs": []
    },
    {
      "cell_type": "code",
      "source": [
        "print('Accuracy score on training data = ', test_data_accuracy)"
      ],
      "metadata": {
        "colab": {
          "base_uri": "https://localhost:8080/"
        },
        "id": "oJ5WkZTD7B-w",
        "outputId": "11cbf5bd-fbf6-403b-98ee-41441f856ceb"
      },
      "execution_count": null,
      "outputs": [
        {
          "output_type": "stream",
          "name": "stdout",
          "text": [
            "Accuracy score on training data =  0.8614457831325302\n"
          ]
        }
      ]
    },
    {
      "cell_type": "markdown",
      "source": [
        "Here we take all the exaple like all type of file type and file size\n",
        "file_type:extension\n",
        "0\t.tex\n",
        "1\t.ico\n",
        "2\t.exe\n",
        "3\t.doc\n",
        "4\t.pdf\n",
        "5\t.mp3\n",
        "6\t.txt\n",
        "7\t.bmp\n",
        "8\t.docx\n",
        "9\t.rar\n",
        " ------- All the file like latex ,bmp,rar,exe are in SPAM\n",
        " ------- File like jpg and png if size is > 1370000 is SPAM\n",
        " ------- File like txt if size is >5000 is SPAM"
      ],
      "metadata": {
        "id": "0ai1gpgYwfAX"
      }
    },
    {
      "cell_type": "code",
      "source": [
        "input_data = (7,120000)\n",
        "# (2,10000) ,(7,120000) ,(7,1200),(9,89000) ,(9,390), (6,4000), (6,7000) ,(8,7800)\n",
        "\n",
        "# change the input data to numpy array\n",
        "input_data_as_numpy_array = np.asarray(input_data)\n",
        "\n",
        "# reshape the arry\n",
        "input_data_reshaped = input_data_as_numpy_array.reshape(1,-1)\n",
        "\n",
        "# standardizing the input data\n",
        "std_data = scaler.transform(input_data_reshaped)\n",
        "#print(std_data)\n",
        "\n",
        "prediction = classifier.predict(std_data)\n",
        "\n",
        "if int(prediction[0])==0:\n",
        "  print('NOt Spam')\n",
        "\n",
        "else:\n",
        "  print('Spam')"
      ],
      "metadata": {
        "colab": {
          "base_uri": "https://localhost:8080/"
        },
        "id": "_vUe3KxD76qK",
        "outputId": "558a0930-7b5d-43dd-f174-b23bdf3da3e9"
      },
      "execution_count": null,
      "outputs": [
        {
          "output_type": "stream",
          "name": "stdout",
          "text": [
            "Spam\n"
          ]
        }
      ]
    },
    {
      "cell_type": "code",
      "source": [
        ""
      ],
      "metadata": {
        "id": "YcEq4CkAEMho"
      },
      "execution_count": null,
      "outputs": []
    }
  ]
}